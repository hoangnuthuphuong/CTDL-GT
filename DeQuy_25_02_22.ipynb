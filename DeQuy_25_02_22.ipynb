{
  "nbformat": 4,
  "nbformat_minor": 0,
  "metadata": {
    "colab": {
      "name": "DeQuy_25/02/22",
      "private_outputs": true,
      "provenance": [],
      "authorship_tag": "ABX9TyOzQoOBxlqW3VTKeQhdZjL/",
      "include_colab_link": true
    },
    "kernelspec": {
      "name": "python3",
      "display_name": "Python 3"
    },
    "language_info": {
      "name": "python"
    }
  },
  "cells": [
    {
      "cell_type": "markdown",
      "metadata": {
        "id": "view-in-github",
        "colab_type": "text"
      },
      "source": [
        "<a href=\"https://colab.research.google.com/github/hoangnuthuphuong/CTDL-GT/blob/main/DeQuy_25_02_22.ipynb\" target=\"_parent\"><img src=\"https://colab.research.google.com/assets/colab-badge.svg\" alt=\"Open In Colab\"/></a>"
      ]
    },
    {
      "cell_type": "markdown",
      "source": [
        "1. Upload mã nguồn (sau khi tự viết lại) giải bài toán tháp Hà Nội"
      ],
      "metadata": {
        "id": "1dPWPRBXin7s"
      }
    },
    {
      "cell_type": "code",
      "execution_count": null,
      "metadata": {
        "id": "AOxf-rTgiS-x"
      },
      "outputs": [],
      "source": [
        "def SapXep(n, a, b, c):\n",
        "    if(n == 1):\n",
        "        print(a,\" --> \",c);\n",
        "    else:\n",
        "        SapXep(n - 1, a, c, b);\n",
        "        SapXep(1, a, b, c);\n",
        "        SapXep(n - 1, b, a, c);\n",
        "\n",
        "def main():\n",
        "    dau = \"A\";\n",
        "    giua = \"B\";\n",
        "    cuoi = \"C\";\n",
        "    ct = int(input(\"Nhập số dĩa: \"));\n",
        "    SapXep(ct, dau, giua, cuoi);\n",
        "\n",
        "if __name__ == '__main__':\n",
        "    main();"
      ]
    },
    {
      "cell_type": "markdown",
      "source": [
        "2. Viết mã nguồn tìm ước số chung lớn nhất của 2 số nguyên"
      ],
      "metadata": {
        "id": "7WFWBKAwi5fu"
      }
    },
    {
      "cell_type": "code",
      "source": [
        "def gcd(a, b):\n",
        "    if (b == 0):\n",
        "        return a;\n",
        "    else:\n",
        "        return gcd(b, a % b);\n",
        "\n",
        "def main():\n",
        "    so1 = int(input(\"Nhập số đầu tiên: \"));\n",
        "    so2 = int(input(\"Nhập số thứ 2: \"));\n",
        "\n",
        "    ucln = gcd(so1, so2);\n",
        "    print(\"Ước chung lớn nhất là: \", ucln);\n",
        "\n",
        "if __name__ == \"__main__\":\n",
        "    main();"
      ],
      "metadata": {
        "id": "dZ9j5n-1i4aR"
      },
      "execution_count": null,
      "outputs": []
    },
    {
      "cell_type": "markdown",
      "source": [
        "3. Bài toán mã đi tuần\n"
      ],
      "metadata": {
        "id": "cMAs3CoOjDSQ"
      }
    },
    {
      "cell_type": "code",
      "source": [
        "import numpy as np\n",
        "\n",
        "def diChuyen(x:int, y:int, dem:int, A:np, n:int, X:list, Y:list):\n",
        "    dem += 1;\n",
        "    A[x][y] = dem;\n",
        "    for i in range(8):\n",
        "        if (dem == n ** 2):\n",
        "            print(\"Các bước đi là : \\n\");\n",
        "            print(A);\n",
        "            exit(0);\n",
        "        u = x + X[i];\n",
        "        v = y + Y[i];\n",
        "        if (u >= 0 and u < n and v >= 0 and v < n and A[u][v] == 0):\n",
        "            diChuyen(u, v, dem, A, n, X, Y);\n",
        "    dem -= 1;\n",
        "    A[x][y] = 0;\n",
        "\n",
        "def main():\n",
        "    n = int(input(\"Nhập n: \"));\n",
        "    A = np.zeros((n, n), int);\n",
        "    X = [-2, -2, -1, -1, 1, 1, 2, 2];\n",
        "    Y = [-1, 1, -2, 2, -2, 2, -1, 1];\n",
        "    dem = 0;\n",
        "    print(\"Nhập vào vị trí ban đầu!\");\n",
        "    a = int(input(\"x: \"));\n",
        "    b = int(input(\"y: \"));\n",
        "\n",
        "    diChuyen(a, b, dem, A, n, X, Y);\n",
        "    print(\"Không tìm thấy đường đi.\");\n",
        "\n",
        "if __name__ == \"__main__\":\n",
        "    main();"
      ],
      "metadata": {
        "id": "QW7c1QgojMEj"
      },
      "execution_count": null,
      "outputs": []
    },
    {
      "cell_type": "code",
      "source": [
        ""
      ],
      "metadata": {
        "id": "wQnKY_gnjPkW"
      },
      "execution_count": null,
      "outputs": []
    }
  ]
}